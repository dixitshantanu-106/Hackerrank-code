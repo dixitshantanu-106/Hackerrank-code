{
 "cells": [
  {
   "cell_type": "code",
   "execution_count": null,
   "id": "chemical-policy",
   "metadata": {},
   "outputs": [],
   "source": [
    "def dynamicArray(n, queries):\n",
    "    ans = [[] for i in range(n)]\n",
    "    rans = []\n",
    "    last_ans = 0\n",
    "    for j in queries:\n",
    "        if j[0] == 1:\n",
    "            ans[((j[1] ^ last_ans) % n)].append(j[2])\n",
    "        elif j[0] == 2:\n",
    "            last_ans = ans[((j[1] ^ last_ans) % n)][(j[2]) % len(ans[((j[1] ^ last_ans) % n)])]\n",
    "            rans.append(last_ans) \n",
    "    return rans"
   ]
  }
 ],
 "metadata": {
  "kernelspec": {
   "display_name": "Python 3",
   "language": "python",
   "name": "python3"
  },
  "language_info": {
   "codemirror_mode": {
    "name": "ipython",
    "version": 3
   },
   "file_extension": ".py",
   "mimetype": "text/x-python",
   "name": "python",
   "nbconvert_exporter": "python",
   "pygments_lexer": "ipython3",
   "version": "3.8.5"
  }
 },
 "nbformat": 4,
 "nbformat_minor": 5
}
