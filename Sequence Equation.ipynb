{
 "cells": [
  {
   "cell_type": "code",
   "execution_count": 28,
   "id": "searching-stylus",
   "metadata": {},
   "outputs": [],
   "source": [
    "def permutationEquation(p):\n",
    "    vals = []\n",
    "    for i in range(len(p)):\n",
    "        for j in p:\n",
    "            if p[p[j - 1] - 1] == i + 1:\n",
    "                vals.append(j)\n",
    "    return vals"
   ]
  }
 ],
 "metadata": {
  "kernelspec": {
   "display_name": "Python 3",
   "language": "python",
   "name": "python3"
  },
  "language_info": {
   "codemirror_mode": {
    "name": "ipython",
    "version": 3
   },
   "file_extension": ".py",
   "mimetype": "text/x-python",
   "name": "python",
   "nbconvert_exporter": "python",
   "pygments_lexer": "ipython3",
   "version": "3.8.5"
  }
 },
 "nbformat": 4,
 "nbformat_minor": 5
}
