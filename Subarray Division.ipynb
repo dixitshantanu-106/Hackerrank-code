{
 "cells": [
  {
   "cell_type": "code",
   "execution_count": 16,
   "id": "developmental-stock",
   "metadata": {},
   "outputs": [],
   "source": [
    "def birthday(s, d, m):\n",
    "    ans = 0\n",
    "    if len(s) == m and sum(s) == d:\n",
    "        return 1\n",
    "    for i in range(len(s)):\n",
    "        array = []\n",
    "        array.append(s[i])\n",
    "        for j in range(i + 1, len(s)):\n",
    "            if len(array) == m:\n",
    "                if sum(array) == d:\n",
    "                    ans += 1\n",
    "                break\n",
    "            array.append(s[j])\n",
    "    return ans"
   ]
  }
 ],
 "metadata": {
  "kernelspec": {
   "display_name": "Python 3",
   "language": "python",
   "name": "python3"
  },
  "language_info": {
   "codemirror_mode": {
    "name": "ipython",
    "version": 3
   },
   "file_extension": ".py",
   "mimetype": "text/x-python",
   "name": "python",
   "nbconvert_exporter": "python",
   "pygments_lexer": "ipython3",
   "version": "3.8.5"
  }
 },
 "nbformat": 4,
 "nbformat_minor": 5
}
