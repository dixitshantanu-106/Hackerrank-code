{
 "cells": [
  {
   "cell_type": "code",
   "execution_count": 221,
   "id": "theoretical-protection",
   "metadata": {},
   "outputs": [],
   "source": [
    "def makingAnagrams(s1, s2):\n",
    "    n = set(s1) & set(s2)\n",
    "    deletions = 0\n",
    "    for i in s1:\n",
    "        if i not in n:\n",
    "            deletions += s1.count(i)\n",
    "    for i in s2:\n",
    "        if i not in n:\n",
    "            deletions += s2.count(i)\n",
    "    for i in n:\n",
    "        if s1.count(i) != s2.count(i):\n",
    "            print(i)\n",
    "            deletions += abs(s1.count(i) - s2.count(i))\n",
    "    return deletions"
   ]
  }
 ],
 "metadata": {
  "kernelspec": {
   "display_name": "Python 3",
   "language": "python",
   "name": "python3"
  },
  "language_info": {
   "codemirror_mode": {
    "name": "ipython",
    "version": 3
   },
   "file_extension": ".py",
   "mimetype": "text/x-python",
   "name": "python",
   "nbconvert_exporter": "python",
   "pygments_lexer": "ipython3",
   "version": "3.8.5"
  }
 },
 "nbformat": 4,
 "nbformat_minor": 5
}
