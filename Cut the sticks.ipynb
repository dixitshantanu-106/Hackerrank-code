{
 "cells": [
  {
   "cell_type": "code",
   "execution_count": 22,
   "id": "civic-genealogy",
   "metadata": {},
   "outputs": [],
   "source": [
    "def cutTheSticks(arr):\n",
    "    n = len(arr)\n",
    "    counts = []\n",
    "    for i in range(n):\n",
    "        counts.append(len(arr))\n",
    "        small = min(arr)\n",
    "        arr = list(filter(lambda a: a != small, arr))\n",
    "        if not arr:\n",
    "            break\n",
    "    return counts"
   ]
  }
 ],
 "metadata": {
  "kernelspec": {
   "display_name": "Python 3",
   "language": "python",
   "name": "python3"
  },
  "language_info": {
   "codemirror_mode": {
    "name": "ipython",
    "version": 3
   },
   "file_extension": ".py",
   "mimetype": "text/x-python",
   "name": "python",
   "nbconvert_exporter": "python",
   "pygments_lexer": "ipython3",
   "version": "3.8.5"
  }
 },
 "nbformat": 4,
 "nbformat_minor": 5
}
