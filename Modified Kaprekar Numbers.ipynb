{
 "cells": [
  {
   "cell_type": "code",
   "execution_count": 87,
   "id": "sensitive-charity",
   "metadata": {},
   "outputs": [],
   "source": [
    "def kaprekarNumbers(p, q):\n",
    "    numbers = \"\"\n",
    "    for i in range(p, q+1):\n",
    "        sq = str(i**2)\n",
    "        r = sq[-len(str(i)):]\n",
    "        l = sq[:len(sq)-len(r)]\n",
    "        if i > 3:\n",
    "            if i == (int(l) + int(r)):\n",
    "                numbers += str(i) + ' '\n",
    "        else:\n",
    "            if i == int(r):\n",
    "                numbers += str(i) + ' '\n",
    "    if numbers:\n",
    "        print(numbers)\n",
    "    else:\n",
    "        print(\"INVALID RANGE\")"
   ]
  }
 ],
 "metadata": {
  "kernelspec": {
   "display_name": "Python 3",
   "language": "python",
   "name": "python3"
  },
  "language_info": {
   "codemirror_mode": {
    "name": "ipython",
    "version": 3
   },
   "file_extension": ".py",
   "mimetype": "text/x-python",
   "name": "python",
   "nbconvert_exporter": "python",
   "pygments_lexer": "ipython3",
   "version": "3.8.5"
  }
 },
 "nbformat": 4,
 "nbformat_minor": 5
}
