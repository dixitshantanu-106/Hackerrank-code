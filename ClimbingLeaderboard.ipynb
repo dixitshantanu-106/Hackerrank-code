{
 "cells": [
  {
   "cell_type": "code",
   "execution_count": 2,
   "metadata": {},
   "outputs": [
    {
     "name": "stdout",
     "output_type": "stream",
     "text": [
      "{100: 1, 50: 2, 40: 3, 20: 4, 10: 5}\n",
      "[2]\n"
     ]
    }
   ],
   "source": [
    "def climbingLeaderboard(ranked, player):\n",
    "    ranks = {}\n",
    "    rank = 1\n",
    "    player_rank = []\n",
    "    for i in ranked:\n",
    "        if i not in ranks:\n",
    "            ranks[i] = rank\n",
    "            rank += 1\n",
    "    for i in player:\n",
    "        if i in ranks:\n",
    "            player_rank.append(ranks[i])\n",
    "    print(ranks)\n",
    "    \n",
    "climbingLeaderboard([100, 100, 50, 40, 40, 20, 10], [5, 25, 50, 120])"
   ]
  }
 ],
 "metadata": {
  "kernelspec": {
   "display_name": "Python 3",
   "language": "python",
   "name": "python3"
  },
  "language_info": {
   "codemirror_mode": {
    "name": "ipython",
    "version": 3
   },
   "file_extension": ".py",
   "mimetype": "text/x-python",
   "name": "python",
   "nbconvert_exporter": "python",
   "pygments_lexer": "ipython3",
   "version": "3.7.3"
  }
 },
 "nbformat": 4,
 "nbformat_minor": 2
}
