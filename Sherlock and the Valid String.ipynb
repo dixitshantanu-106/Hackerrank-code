{
 "cells": [
  {
   "cell_type": "code",
   "execution_count": 46,
   "id": "british-vancouver",
   "metadata": {},
   "outputs": [],
   "source": [
    "def isValid(s):\n",
    "    vars = {}\n",
    "    for i in s:\n",
    "        if i in vars:\n",
    "            vars[i] += 1\n",
    "        else:\n",
    "            vars[i] = 1\n",
    "    value = vars[s[0]]\n",
    "    diff = 0\n",
    "    same = 0\n",
    "    for j, i in enumerate(vars):\n",
    "        if j == 0:\n",
    "            pass\n",
    "        elif (vars[i] - value == -1) or (vars[i] - value == 1):\n",
    "            diff += 1\n",
    "        elif vars[i] - value == 0:\n",
    "            same += 1\n",
    "    if same + diff == len(vars) - 1 and diff < 2:\n",
    "        return \"YES\"\n",
    "    else:\n",
    "        return \"NO\""
   ]
  },
  {
   "cell_type": "code",
   "execution_count": 47,
   "id": "authentic-actor",
   "metadata": {},
   "outputs": [
    {
     "name": "stdout",
     "output_type": "stream",
     "text": [
      "YES\n"
     ]
    }
   ],
   "source": [
    "print(isValid(\"abcdefghhgfedecba\"))"
   ]
  }
 ],
 "metadata": {
  "kernelspec": {
   "display_name": "Python 3",
   "language": "python",
   "name": "python3"
  },
  "language_info": {
   "codemirror_mode": {
    "name": "ipython",
    "version": 3
   },
   "file_extension": ".py",
   "mimetype": "text/x-python",
   "name": "python",
   "nbconvert_exporter": "python",
   "pygments_lexer": "ipython3",
   "version": "3.8.5"
  }
 },
 "nbformat": 4,
 "nbformat_minor": 5
}
