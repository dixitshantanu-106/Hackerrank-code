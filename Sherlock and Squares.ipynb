{
 "cells": [
  {
   "cell_type": "code",
   "execution_count": 69,
   "id": "alert-friendly",
   "metadata": {},
   "outputs": [],
   "source": [
    "from math import sqrt\n",
    "def squares(a, b):\n",
    "    sq = 0\n",
    "    for i in range(int(sqrt(a)), int(sqrt(b))+1):\n",
    "        if i**2 >= a and i**2 <= b:\n",
    "            sq += 1\n",
    "    return sq"
   ]
  }
 ],
 "metadata": {
  "kernelspec": {
   "display_name": "Python 3",
   "language": "python",
   "name": "python3"
  },
  "language_info": {
   "codemirror_mode": {
    "name": "ipython",
    "version": 3
   },
   "file_extension": ".py",
   "mimetype": "text/x-python",
   "name": "python",
   "nbconvert_exporter": "python",
   "pygments_lexer": "ipython3",
   "version": "3.8.5"
  }
 },
 "nbformat": 4,
 "nbformat_minor": 5
}
